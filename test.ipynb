{
 "cells": [
  {
   "cell_type": "code",
   "execution_count": 1,
   "metadata": {},
   "outputs": [],
   "source": [
    "from ckks_package.ckks import *"
   ]
  },
  {
   "cell_type": "code",
   "execution_count": 2,
   "metadata": {},
   "outputs": [
    {
     "name": "stdout",
     "output_type": "stream",
     "text": [
      "The CKKS configuration is done!\n",
      "\n",
      "The key generation is done!\n",
      "Estimated security: 2^(80.6) operations.\n",
      "\n",
      "Encoding relevant vectors as polynomials...\n",
      "Generating matrices required for CoeffToSlot and SlotToCoeff...\n",
      "Encoding these matrices as polynomials...\n",
      "Generating missing switching keys...\n",
      "The bootstrapping configuration is done!\n",
      "\n"
     ]
    }
   ],
   "source": [
    "N = 2**15  # Ring degree\n",
    "n = 2**4  # Number of slots\n",
    "L_boot = 23  # Maximal level during bootstrapping\n",
    "q0 = 2**29  # Smallest modulus\n",
    "p = 2**23  # Scaling factor outside of bootstrapping\n",
    "delta = q0  # Scaling factor during bootstrapping\n",
    "\n",
    "# The grouping parameter for bootstrapping is s. It lies between 1 and\n",
    "# log(n, 2). The smaller s, the faster the bootstrapping, but the more levels\n",
    "# are consumed.\n",
    "s = log(n, 2)\n",
    "\n",
    "CKKS.config(N, n, L_boot, q0, p, delta)\n",
    "CKKS.key_gen()\n",
    "CKKS.config_bootstrap(CKKS.sk, s)"
   ]
  },
  {
   "cell_type": "code",
   "execution_count": 3,
   "metadata": {},
   "outputs": [
    {
     "data": {
      "text/plain": [
       "[array([ 1.-3.j,  2.+2.j,  0.+0.j,  1.-3.j, -1.+0.j,  3.-1.j,  2.+2.j,\n",
       "         2.-2.j,  3.-1.j,  0.+1.j, -1.+2.j, -2.+3.j, -3.-1.j,  3.-3.j,\n",
       "        -0.-1.j, -1.+1.j]),\n",
       " array([-2.-2.j,  1.+2.j,  2.-1.j, -1.+3.j, -2.-2.j,  0.+1.j,  3.-3.j,\n",
       "        -1.-1.j, -0.-3.j, -2.+0.j, -3.+2.j, -0.-2.j, -1.-2.j,  2.-3.j,\n",
       "         2.-1.j,  2.+1.j])]"
      ]
     },
     "execution_count": 3,
     "metadata": {},
     "output_type": "execute_result"
    }
   ],
   "source": [
    "# Creating two random complex vectors\n",
    "\n",
    "complex_vectors = [\n",
    "    np.array([randint(-3, 3) + 1j * randint(-3, 3) for _ in range(n)])\n",
    "    for _ in range(2)\n",
    "]\n",
    "complex_vectors"
   ]
  },
  {
   "cell_type": "code",
   "execution_count": 4,
   "metadata": {},
   "outputs": [
    {
     "data": {
      "text/plain": [
       "[4718592 + 2959270X^1024 + 3709050X^2048 + 2403425X^3072 - 3694560X^4096 - 184337X^5120 + 6386559X^6144 + 2148182X^7168 - 2595093X^8192 - 2488841X^9216 - 3659113X^10240 - 4249655X^11264 - 200636X^12288 - 4759446X^13312 + 2234272X^14336 - 2251343X^15360 - 2097152X^16384 + 689778X^17408 - 165227X^18432 - 9721878X^19456 - 7549427X^20480 + 3008190X^21504 - 6942584X^22528 + 3335482X^23552 + 2595093X^24576 + 3830897X^25600 - 6858832X^26624 + 4725308X^27648 + 484379X^28672 + 1741407X^29696 + 169277X^30720 + 374268X^31744 mod(2^696),\n",
       " - 4810751X^1024 - 3066097X^2048 - 3600396X^3072 - 6248244X^4096 + 2304753X^5120 + 5714100X^6144 - 5290825X^7168 - 5560914X^8192 - 5019258X^9216 - 5654184X^10240 + 650556X^11264 - 4026985X^12288 + 2176150X^13312 + 4060585X^14336 + 11609517X^15360 - 5767168X^16384 - 12130X^17408 - 864088X^18432 - 3069712X^19456 - 1384289X^20480 + 1513367X^21504 - 2448742X^22528 - 1059207X^23552 - 4078004X^24576 + 1034485X^25600 - 2147522X^26624 + 670131X^27648 + 2871850X^28672 - 2743146X^29696 + 624269X^30720 - 928753X^31744 mod(2^696)]"
      ]
     },
     "execution_count": 4,
     "metadata": {},
     "output_type": "execute_result"
    }
   ],
   "source": [
    "# Encoding as polynomials\n",
    "\n",
    "plaintext_polys = [CKKS.encode(z) for z in complex_vectors]\n",
    "plaintext_polys"
   ]
  },
  {
   "cell_type": "code",
   "execution_count": 5,
   "metadata": {},
   "outputs": [
    {
     "data": {
      "text/plain": [
       "[A CKKS ciphertext with degree N = 2^15 and modulus q = (2^29) * (2^23)^29 (level 29 out of 29).,\n",
       " A CKKS ciphertext with degree N = 2^15 and modulus q = (2^29) * (2^23)^29 (level 29 out of 29).]"
      ]
     },
     "execution_count": 5,
     "metadata": {},
     "output_type": "execute_result"
    }
   ],
   "source": [
    "# Encrypting\n",
    "\n",
    "ciphertexts = [CKKS.enc_poly_with_sk(pt, CKKS.sk) for pt in plaintext_polys]\n",
    "ciphertexts"
   ]
  },
  {
   "cell_type": "code",
   "execution_count": 6,
   "metadata": {},
   "outputs": [
    {
     "name": "stdout",
     "output_type": "stream",
     "text": [
      "[ 9.99998931e-01-2.99999994e+00j  2.00000189e+00+1.99999811e+00j\n",
      " -7.04356879e-07-3.85345815e-06j  1.00000005e+00-3.00000201e+00j\n",
      " -1.00000123e+00-9.03714948e-07j  2.99999645e+00-1.00000137e+00j\n",
      "  2.00000052e+00+1.99999915e+00j  2.00000038e+00-1.99999649e+00j\n",
      "  2.99999661e+00-9.99997544e-01j -9.18215187e-07+1.00000107e+00j\n",
      " -1.00000030e+00+2.00000267e+00j -1.99999837e+00+3.00000160e+00j\n",
      " -2.99999974e+00-9.99998665e-01j  2.99999940e+00-2.99999856e+00j\n",
      "  6.88791713e-08-9.99999009e-01j -1.00000258e+00+9.99999562e-01j]\n",
      "[-2.00000071e+00-1.99999999e+00j  1.00000389e+00+1.99999890e+00j\n",
      "  2.00000065e+00-9.99998589e-01j -9.99999054e-01+3.00000068e+00j\n",
      " -1.99999917e+00-1.99999907e+00j -5.78133222e-07+1.00000005e+00j\n",
      "  3.00000194e+00-3.00000138e+00j -9.99996650e-01-1.00000153e+00j\n",
      "  6.21464597e-07-2.99999957e+00j -1.99999906e+00+2.35256688e-06j\n",
      " -3.00000022e+00+2.00000150e+00j  1.18364707e-06-1.99999797e+00j\n",
      " -1.00000024e+00-1.99999751e+00j  1.99999949e+00-2.99999940e+00j\n",
      "  2.00000098e+00-9.99999547e-01j  2.00000218e+00+1.00000060e+00j]\n"
     ]
    }
   ],
   "source": [
    "# Checking correctness\n",
    "\n",
    "for i in range(2):\n",
    "    pt = ciphertexts[i].dec_to_poly(CKKS.sk)\n",
    "    print(CKKS.decode(pt))"
   ]
  },
  {
   "cell_type": "code",
   "execution_count": 7,
   "metadata": {},
   "outputs": [
    {
     "name": "stdout",
     "output_type": "stream",
     "text": [
      "A CKKS ciphertext with degree N = 2^15 and modulus q = (2^29) * (2^23)^29 (level 29 out of 29).\n",
      "A CKKS ciphertext with degree N = 2^15 and modulus q = (2^29) * (2^23)^28 (level 28 out of 29).\n"
     ]
    }
   ],
   "source": [
    "# Homomorphic operations\n",
    "\n",
    "ct_add = ciphertexts[0] + ciphertexts[1]\n",
    "ct_mul = (\n",
    "    ciphertexts[0] @ ciphertexts[1]\n",
    ")  # Polynomial multiplication followed by a rescaling operation\n",
    "print(ct_add)\n",
    "print(ct_mul)"
   ]
  },
  {
   "cell_type": "code",
   "execution_count": 8,
   "metadata": {},
   "outputs": [
    {
     "name": "stdout",
     "output_type": "stream",
     "text": [
      "[-1.00000178e+00-4.99999992e+00j  3.00000579e+00+3.99999701e+00j\n",
      "  1.99999995e+00-1.00000244e+00j  9.93985224e-07-1.33448763e-06j\n",
      " -3.00000040e+00-1.99999997e+00j  2.99999587e+00-1.31581937e-06j\n",
      "  5.00000246e+00-1.00000223e+00j  1.00000373e+00-2.99999802e+00j\n",
      "  2.99999723e+00-3.99999712e+00j -1.99999998e+00+1.00000343e+00j\n",
      " -4.00000052e+00+4.00000417e+00j -1.99999719e+00+1.00000362e+00j\n",
      " -3.99999998e+00-2.99999617e+00j  4.99999890e+00-5.99999796e+00j\n",
      "  2.00000104e+00-1.99999856e+00j  9.99999603e-01+2.00000016e+00j]\n",
      "[-7.99999818e+00+4.00000457e+00j -1.99998321e+00+6.00000591e+00j\n",
      " -4.90585077e-06-7.12662355e-06j  8.00001106e+00+6.00000082e+00j\n",
      "  1.99999755e+00+2.00000200e+00j  9.99999988e-01+2.99999662e+00j\n",
      "  1.20000056e+01-1.82619251e-06j -3.99999326e+00-1.43260616e-05j\n",
      " -2.99999055e+00-8.99999005e+00j -7.22309607e-07-2.00000143e+00j\n",
      " -1.00000729e+00-8.00001106e+00j  5.99999390e+00+3.99999592e+00j\n",
      "  1.00000489e+00+6.99999099e+00j -2.99999751e+00-1.49999913e+01j\n",
      " -9.99999135e-01-1.99999879e+00j -3.00000770e+00+9.99998118e-01j]\n"
     ]
    }
   ],
   "source": [
    "# Checking correctness\n",
    "\n",
    "for ct in [ct_add, ct_mul]:\n",
    "    pt = ct.dec_to_poly(CKKS.sk)\n",
    "    print(CKKS.decode(pt))"
   ]
  },
  {
   "cell_type": "code",
   "execution_count": 9,
   "metadata": {},
   "outputs": [
    {
     "name": "stdout",
     "output_type": "stream",
     "text": [
      "A CKKS ciphertext with degree N = 2^15 and modulus q = (2^29) * (2^23)^0 (level 0 out of 29).\n",
      "A CKKS ciphertext with degree N = 2^15 and modulus q = (2^29) * (2^23)^5 (level 5 out of 29).\n",
      "[ 9.96862998e-01-2.99585190e+00j  1.99764188e+00+1.99849299e+00j\n",
      " -1.41897972e-03+4.83537302e-04j  1.00251720e+00-2.99730590e+00j\n",
      " -1.00140708e+00-6.55209389e-04j  2.99748311e+00-1.00204665e+00j\n",
      "  1.99869069e+00+1.99672090e+00j  1.99853161e+00-1.99740033e+00j\n",
      "  2.99729569e+00-1.00010720e+00j  2.07135160e-03+9.98210810e-01j\n",
      " -9.97566553e-01+1.99648493e+00j -1.99980121e+00+2.99829439e+00j\n",
      " -2.99657102e+00-9.99782932e-01j  2.99737863e+00-2.99644000e+00j\n",
      "  8.63632901e-04-9.98377147e-01j -9.98580096e-01+9.98690335e-01j]\n"
     ]
    }
   ],
   "source": [
    "# Bootstrapping\n",
    "\n",
    "ct = ciphertexts[0] % q0  # Project to the lowest level l = 0\n",
    "print(ct)\n",
    "\n",
    "ct_boot = ct.bootstrap(s)\n",
    "print(ct_boot)\n",
    "\n",
    "pt = ct_boot.dec_to_poly(CKKS.sk)\n",
    "print(CKKS.decode(pt))"
   ]
  }
 ],
 "metadata": {
  "kernelspec": {
   "display_name": "SageMath 10.0",
   "language": "sage",
   "name": "SageMath-10.0"
  },
  "language_info": {
   "codemirror_mode": {
    "name": "ipython",
    "version": 3
   },
   "file_extension": ".py",
   "mimetype": "text/x-python",
   "name": "python",
   "nbconvert_exporter": "python",
   "pygments_lexer": "ipython3",
   "version": "3.11.1"
  }
 },
 "nbformat": 4,
 "nbformat_minor": 2
}
