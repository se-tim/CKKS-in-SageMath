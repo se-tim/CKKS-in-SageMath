{
 "cells": [
  {
   "cell_type": "code",
   "execution_count": 1,
   "metadata": {},
   "outputs": [],
   "source": [
    "load(\"ckks.py\")"
   ]
  },
  {
   "cell_type": "code",
   "execution_count": 2,
   "metadata": {},
   "outputs": [
    {
     "name": "stdout",
     "output_type": "stream",
     "text": [
      "The CKKS configuration is done!\n",
      "\n",
      "The key generation is done!\n",
      "Estimated security: 2^(80.0).\n",
      "\n",
      "Encoding relevant vectors as polynomials...\n",
      "Generating matrices required for CoeffToSlot and SlotToCoeff...\n",
      "Encoding these matrices as polynomials...\n",
      "Generating missing switching keys...\n",
      "The bootstrapping configuration is done!\n",
      "\n"
     ]
    }
   ],
   "source": [
    "N = 2**15  # Ring degree\n",
    "n = 2**2  # Number of slots\n",
    "L = 20  # Number of levels\n",
    "q0 = 2**40  # Smallest modulus\n",
    "delta = 2**33  # Scaling factor\n",
    "\n",
    "# The grouping parameter for bootstrapping is s. It lies between 1 and\n",
    "# log(n, 2). The smaller s, the faster the bootstrapping, but the more levels\n",
    "# are consumed.\n",
    "s = log(n, 2)\n",
    "\n",
    "CKKS.config(N, n, L, q0, delta)\n",
    "CKKS.key_gen()\n",
    "CKKS.config_bootstrap(CKKS.sk, s)"
   ]
  },
  {
   "cell_type": "code",
   "execution_count": 3,
   "metadata": {},
   "outputs": [
    {
     "data": {
      "text/plain": [
       "[array([-3.-3.j, -1.-2.j, -1.+1.j, -2.-2.j]),\n",
       " array([ 3.+2.j, -3.-2.j,  2.+0.j,  1.+0.j])]"
      ]
     },
     "execution_count": 3,
     "metadata": {},
     "output_type": "execute_result"
    }
   ],
   "source": [
    "# Creating two random complex vectors\n",
    "\n",
    "complex_vectors = [\n",
    "    np.array([randint(-3, 3) + 1j * randint(-3, 3) for _ in range(n)])\n",
    "    for _ in range(2)\n",
    "]\n",
    "complex_vectors"
   ]
  },
  {
   "cell_type": "code",
   "execution_count": 4,
   "metadata": {},
   "outputs": [
    {
     "data": {
      "text/plain": [
       "[- 15032385536 - 8077064444X^4096 + 1518500250X^8192 - 7595661393X^12288 - 12884901888X^16384 - 8276468117X^20480 + 4555500750X^24576 + 1502613137X^28672 mod(2^700),\n",
       " 6442450944 + 2946822291X^4096 + 16703502750X^8192 - 1502613137X^12288 + 12725903546X^20480 - 4555500750X^24576 - 7595661393X^28672 mod(2^700)]"
      ]
     },
     "execution_count": 4,
     "metadata": {},
     "output_type": "execute_result"
    }
   ],
   "source": [
    "# Encoding as polynomials\n",
    "\n",
    "plaintext_polys = [CKKS.encode(z) for z in complex_vectors]\n",
    "plaintext_polys"
   ]
  },
  {
   "cell_type": "code",
   "execution_count": 5,
   "metadata": {},
   "outputs": [
    {
     "data": {
      "text/plain": [
       "[A CKKS ciphertext with degree N = 2^15 and modulus q = (2^40) * (2^33)^20 (level 20 out of 20),\n",
       " A CKKS ciphertext with degree N = 2^15 and modulus q = (2^40) * (2^33)^20 (level 20 out of 20)]"
      ]
     },
     "execution_count": 5,
     "metadata": {},
     "output_type": "execute_result"
    }
   ],
   "source": [
    "# Encrypting\n",
    "\n",
    "ciphertexts = [CKKS.enc_poly_with_sk(pt, CKKS.sk) for pt in plaintext_polys]\n",
    "ciphertexts"
   ]
  },
  {
   "cell_type": "code",
   "execution_count": 6,
   "metadata": {},
   "outputs": [
    {
     "name": "stdout",
     "output_type": "stream",
     "text": [
      "[-3.-3.j -1.-2.j -1.+1.j -2.-2.j]\n",
      "[ 3.+2.00000000e+00j -3.-2.00000000e+00j  2.-7.23551663e-10j\n",
      "  1.+8.94562424e-10j]\n"
     ]
    }
   ],
   "source": [
    "# Checking correctness\n",
    "\n",
    "for i in range(2):\n",
    "    pt = ciphertexts[i].dec_to_poly(CKKS.sk)\n",
    "    print(CKKS.decode(pt))"
   ]
  },
  {
   "cell_type": "code",
   "execution_count": 7,
   "metadata": {},
   "outputs": [
    {
     "name": "stdout",
     "output_type": "stream",
     "text": [
      "A CKKS ciphertext with degree N = 2^15 and modulus q = (2^40) * (2^33)^20 (level 20 out of 20)\n",
      "A CKKS ciphertext with degree N = 2^15 and modulus q = (2^40) * (2^33)^19 (level 19 out of 20)\n"
     ]
    }
   ],
   "source": [
    "# Homomorphic operations\n",
    "\n",
    "ct_add = ciphertexts[0] + ciphertexts[1]\n",
    "ct_mul = (\n",
    "    ciphertexts[0] @ ciphertexts[1]\n",
    ")  # Polynomial multiplication followed by a rescaling operation\n",
    "print(ct_add)\n",
    "print(ct_mul)"
   ]
  },
  {
   "cell_type": "code",
   "execution_count": 8,
   "metadata": {},
   "outputs": [
    {
     "name": "stdout",
     "output_type": "stream",
     "text": [
      "[ 3.38867157e-10-1.j -4.00000000e+00-4.j  1.00000000e+00+1.j\n",
      " -1.00000000e+00-2.j]\n",
      "[-2.99999999-15.j -1.         +8.j -2.         +2.j -2.         -2.j]\n"
     ]
    }
   ],
   "source": [
    "# Checking correctness\n",
    "\n",
    "for ct in [ct_add, ct_mul]:\n",
    "    pt = ct.dec_to_poly(CKKS.sk)\n",
    "    print(CKKS.decode(pt))"
   ]
  },
  {
   "cell_type": "code",
   "execution_count": 9,
   "metadata": {},
   "outputs": [
    {
     "name": "stdout",
     "output_type": "stream",
     "text": [
      "A CKKS ciphertext with degree N = 2^15 and modulus q = (2^40) * (2^33)^0 (level 0 out of 20)\n",
      "A CKKS ciphertext with degree N = 2^15 and modulus q = (2^40) * (2^33)^2 (level 2 out of 20)\n",
      "[-2.99748277-2.9980737j  -0.99799535-1.99849169j -0.9981331 +1.00069619j\n",
      " -1.99778639-1.99870603j]\n"
     ]
    }
   ],
   "source": [
    "# Bootstrapping\n",
    "\n",
    "ct = ciphertexts[0] % q0  # Project to the lowest level l = 0\n",
    "print(ct)\n",
    "\n",
    "ct_boot = ct.bootstrap(s)\n",
    "print(ct_boot)\n",
    "\n",
    "pt = ct_boot.dec_to_poly(CKKS.sk)\n",
    "print(CKKS.decode(pt))"
   ]
  }
 ],
 "metadata": {
  "kernelspec": {
   "display_name": "SageMath 10.0",
   "language": "sage",
   "name": "SageMath-10.0"
  },
  "language_info": {
   "codemirror_mode": {
    "name": "ipython",
    "version": 3
   },
   "file_extension": ".py",
   "mimetype": "text/x-python",
   "name": "python",
   "nbconvert_exporter": "python",
   "pygments_lexer": "ipython3",
   "version": "3.11.1"
  }
 },
 "nbformat": 4,
 "nbformat_minor": 2
}
