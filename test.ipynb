{
 "cells": [
  {
   "cell_type": "code",
   "execution_count": 145,
   "metadata": {},
   "outputs": [],
   "source": [
    "load(\"ckks.py\")"
   ]
  },
  {
   "cell_type": "code",
   "execution_count": 146,
   "metadata": {},
   "outputs": [
    {
     "name": "stdout",
     "output_type": "stream",
     "text": [
      "Setting the scheme's parameters...\n",
      "Generating matrices required for encoding and decoding...\n",
      "The CKKS configuration is done!\n",
      "\n",
      "Setting the scheme's key parameters...\n",
      "Generating secret key...\n",
      "Generating public key...\n",
      "Generating evaluation key...\n",
      "Estimated security: 2^(80.0).\n",
      "The key generation is done!\n",
      "\n",
      "Encoding relevant vectors as polynomials...\n",
      "Generating matrices required for CoeffToSlot and SlotToCoeff...\n",
      "Encoding these matrices as polynomials...\n",
      "Generating missing switching keys...\n",
      "The bootstrapping configuration is done!\n",
      "\n"
     ]
    }
   ],
   "source": [
    "N = 2**15  # Ring degree\n",
    "n = 2**2  # Number of slots\n",
    "L = 20  # Number of levels\n",
    "q0 = 2**40  # Smallest modulus\n",
    "delta = 2**33  # Scaling factor\n",
    "\n",
    "# The grouping parameter for bootstrapping is s. It lies between 1 and\n",
    "# log(n, 2). The smaller s, the faster the bootstrapping, but the more levels\n",
    "# are consumed.\n",
    "s = log(n, 2)\n",
    "\n",
    "CKKS.config(N, n, L, q0, delta)\n",
    "CKKS.key_gen()\n",
    "CKKS.config_bootstrap(CKKS.sk, s)"
   ]
  },
  {
   "cell_type": "code",
   "execution_count": null,
   "metadata": {},
   "outputs": [
    {
     "data": {
      "text/plain": [
       "[array([-1.+2.j,  3.+3.j, -3.+1.j, -3.+1.j]),\n",
       " array([3.-2.j, 3.+2.j, 1.+0.j, 0.+3.j])]"
      ]
     },
     "execution_count": 138,
     "metadata": {},
     "output_type": "execute_result"
    }
   ],
   "source": [
    "# Creating two random complex vectors\n",
    "\n",
    "complex_vectors = [\n",
    "    np.array([randint(-3, 3) + 1j * randint(-3, 3) for _ in range(n)])\n",
    "    for _ in range(2)\n",
    "]\n",
    "complex_vectors"
   ]
  },
  {
   "cell_type": "code",
   "execution_count": null,
   "metadata": {},
   "outputs": [
    {
     "data": {
      "text/plain": [
       "[- 8589934592 - 8757871169X^4096 + 16703502750X^8192 - 5271241842X^12288 + 15032385536X^16384 + 1303209465X^20480 - 7592501250X^24576 + 7114258342X^28672 mod(2^700),\n",
       " 15032385536 - 10061080633X^4096 + 3037000500X^8192 - 3486629326X^12288 + 6442450944X^16384 - 7454661704X^20480 - 12148002000X^24576 - 8417467806X^28672 mod(2^700)]"
      ]
     },
     "execution_count": 139,
     "metadata": {},
     "output_type": "execute_result"
    }
   ],
   "source": [
    "# Encoding as polynomials\n",
    "\n",
    "plaintext_polys = [CKKS.encode(z) for z in complex_vectors]\n",
    "plaintext_polys"
   ]
  },
  {
   "cell_type": "code",
   "execution_count": null,
   "metadata": {},
   "outputs": [
    {
     "data": {
      "text/plain": [
       "[A CKKS ciphertext with degree N = 2^15 and modulus q = (2^40) * (2^33)^20 (level 20 out of 20),\n",
       " A CKKS ciphertext with degree N = 2^15 and modulus q = (2^40) * (2^33)^20 (level 20 out of 20)]"
      ]
     },
     "execution_count": 140,
     "metadata": {},
     "output_type": "execute_result"
    }
   ],
   "source": [
    "# Encrypting\n",
    "\n",
    "ciphertexts = [CKKS.enc_poly_with_sk(pt, CKKS.sk) for pt in plaintext_polys]\n",
    "ciphertexts"
   ]
  },
  {
   "cell_type": "code",
   "execution_count": null,
   "metadata": {},
   "outputs": [
    {
     "name": "stdout",
     "output_type": "stream",
     "text": [
      "[-1.+2.j  3.+3.j -3.+1.j -3.+1.j]\n",
      "[ 3.00000000e+00-2.00000000e+00j  3.00000000e+00+2.00000000e+00j\n",
      "  1.00000000e+00+1.54110724e-10j -4.90465446e-11+3.00000000e+00j]\n"
     ]
    }
   ],
   "source": [
    "# Checking correctness\n",
    "\n",
    "for i in range(2):\n",
    "    pt = ciphertexts[i].dec_to_poly(CKKS.sk)\n",
    "    print(CKKS.decode(pt))"
   ]
  },
  {
   "cell_type": "code",
   "execution_count": null,
   "metadata": {},
   "outputs": [
    {
     "name": "stdout",
     "output_type": "stream",
     "text": [
      "A CKKS ciphertext with degree N = 2^15 and modulus q = (2^40) * (2^33)^20 (level 20 out of 20)\n",
      "A CKKS ciphertext with degree N = 2^15 and modulus q = (2^40) * (2^33)^19 (level 19 out of 20)\n"
     ]
    }
   ],
   "source": [
    "# Homomorphic operations\n",
    "\n",
    "ct_add = ciphertexts[0] + ciphertexts[1]\n",
    "ct_mul = (\n",
    "    ciphertexts[0] @ ciphertexts[1]\n",
    ")  # Polynomial multiplication followed by a rescaling operation\n",
    "print(ct_add)\n",
    "print(ct_mul)"
   ]
  },
  {
   "cell_type": "code",
   "execution_count": null,
   "metadata": {},
   "outputs": [
    {
     "name": "stdout",
     "output_type": "stream",
     "text": [
      "[ 2.-1.04280362e-09j  6.+5.00000000e+00j -2.+1.00000000e+00j\n",
      " -3.+4.00000000e+00j]\n",
      "[ 1. +8.j          3.+15.00000001j -3. +1.j         -3. -9.j        ]\n"
     ]
    }
   ],
   "source": [
    "# Checking correctness\n",
    "\n",
    "for ct in [ct_add, ct_mul]:\n",
    "    pt = ct.dec_to_poly(CKKS.sk)\n",
    "    print(CKKS.decode(pt))"
   ]
  },
  {
   "cell_type": "code",
   "execution_count": null,
   "metadata": {},
   "outputs": [
    {
     "name": "stdout",
     "output_type": "stream",
     "text": [
      "A CKKS ciphertext with degree N = 2^15 and modulus q = (2^40) * (2^33)^0 (level 0 out of 20)\n",
      "A CKKS ciphertext with degree N = 2^15 and modulus q = (2^40) * (2^33)^2 (level 2 out of 20)\n",
      "[-1.00022469+1.99496871j  2.99849642+2.99465042j -2.99850067+1.00077645j\n",
      " -2.99817893+1.00048786j]\n"
     ]
    }
   ],
   "source": [
    "# Bootstrapping\n",
    "\n",
    "ct = ciphertexts[0] % q0  # Project to the lowest level l = 0\n",
    "print(ct)\n",
    "\n",
    "ct_boot = ct.bootstrap(s)\n",
    "print(ct_boot)\n",
    "\n",
    "pt = ct_boot.dec_to_poly(CKKS.sk)\n",
    "print(CKKS.decode(pt))"
   ]
  }
 ],
 "metadata": {
  "kernelspec": {
   "display_name": "SageMath 10.0",
   "language": "sage",
   "name": "SageMath-10.0"
  },
  "language_info": {
   "codemirror_mode": {
    "name": "ipython",
    "version": 3
   },
   "file_extension": ".py",
   "mimetype": "text/x-python",
   "name": "python",
   "nbconvert_exporter": "python",
   "pygments_lexer": "ipython3",
   "version": "3.11.1"
  }
 },
 "nbformat": 4,
 "nbformat_minor": 2
}
