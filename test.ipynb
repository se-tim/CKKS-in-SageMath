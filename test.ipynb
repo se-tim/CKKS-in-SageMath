{
 "cells": [
  {
   "cell_type": "code",
   "execution_count": 35,
   "metadata": {},
   "outputs": [],
   "source": [
    "from ckks_package.ckks import *"
   ]
  },
  {
   "cell_type": "code",
   "execution_count": 36,
   "metadata": {},
   "outputs": [
    {
     "name": "stdout",
     "output_type": "stream",
     "text": [
      "The CKKS configuration is done!\n",
      "\n",
      "The key generation is done!\n",
      "Estimated security: 2^(91.9) operations.\n",
      "\n",
      "Encoding relevant vectors as polynomials...\n",
      "Generating matrices required for CoeffToSlot and SlotToCoeff...\n",
      "Encoding these matrices as polynomials...\n",
      "Generating missing switching keys...\n",
      "The bootstrapping configuration is done!\n",
      "\n"
     ]
    }
   ],
   "source": [
    "N = 2**15  # Ring degree\n",
    "n = 2**3  # Number of slots\n",
    "L_boot = 19  # Maximal level during bootstrapping\n",
    "q0 = 2**29  # Smallest modulus\n",
    "p = 2**23  # Scaling factor outside of bootstrapping\n",
    "delta = q0  # Scaling factor during bootstrapping\n",
    "\n",
    "# The grouping parameter for bootstrapping is s. It lies between 1 and\n",
    "# log(n, 2). The smaller s, the faster the bootstrapping, but the more levels\n",
    "# are consumed.\n",
    "s = log(n, 2)\n",
    "\n",
    "CKKS.config(N, n, L_boot, q0, p, delta)\n",
    "CKKS.key_gen()\n",
    "CKKS.config_bootstrap(CKKS.sk, s)"
   ]
  },
  {
   "cell_type": "code",
   "execution_count": 37,
   "metadata": {},
   "outputs": [
    {
     "data": {
      "text/plain": [
       "[array([ 2.+1.j,  3.-1.j,  3.-2.j,  1.+3.j, -2.-1.j, -1.-1.j,  0.+2.j,\n",
       "         2.-3.j]),\n",
       " array([ 1.+1.j,  3.-2.j,  2.+3.j,  2.-3.j, -3.-3.j,  2.+0.j,  3.+3.j,\n",
       "        -0.-2.j])]"
      ]
     },
     "execution_count": 37,
     "metadata": {},
     "output_type": "execute_result"
    }
   ],
   "source": [
    "# Creating two random complex vectors\n",
    "\n",
    "complex_vectors = [\n",
    "    np.array([randint(-3, 3) + 1j * randint(-3, 3) for _ in range(n)])\n",
    "    for _ in range(2)\n",
    "]\n",
    "complex_vectors"
   ]
  },
  {
   "cell_type": "code",
   "execution_count": 38,
   "metadata": {},
   "outputs": [
    {
     "data": {
      "text/plain": [
       "[8388608 + 7213284X^2048 - 4442517X^4096 - 10662270X^6144 + 9639050X^10240 - 1370031X^12288 + 8272721X^14336 - 2097152X^16384 + 4666764X^18432 + 2975121X^20480 - 3945957X^22528 + 2965821X^24576 - 6323507X^26624 + 567485X^28672 - 5158284X^30720 mod(2^581),\n",
       " 10485760 + 5892528X^2048 - 8289031X^4096 + 5581956X^6144 + 5190186X^8192 + 5354942X^10240 - 8856516X^12288 + 3630177X^14336 - 3145728X^16384 + 523297X^18432 - 9051246X^20480 + 6142777X^22528 + 11121828X^24576 + 317092X^26624 + 7681216X^28672 - 6578313X^30720 mod(2^581)]"
      ]
     },
     "execution_count": 38,
     "metadata": {},
     "output_type": "execute_result"
    }
   ],
   "source": [
    "# Encoding as polynomials\n",
    "\n",
    "plaintext_polys = [CKKS.encode(z) for z in complex_vectors]\n",
    "plaintext_polys"
   ]
  },
  {
   "cell_type": "code",
   "execution_count": 39,
   "metadata": {},
   "outputs": [
    {
     "data": {
      "text/plain": [
       "[A CKKS ciphertext with degree N = 2^15 and modulus q = (2^29) * (2^23)^24 (level 24 out of 24).,\n",
       " A CKKS ciphertext with degree N = 2^15 and modulus q = (2^29) * (2^23)^24 (level 24 out of 24).]"
      ]
     },
     "execution_count": 39,
     "metadata": {},
     "output_type": "execute_result"
    }
   ],
   "source": [
    "# Encrypting\n",
    "\n",
    "ciphertexts = [CKKS.enc_poly_with_sk(pt, CKKS.sk) for pt in plaintext_polys]\n",
    "ciphertexts"
   ]
  },
  {
   "cell_type": "code",
   "execution_count": 40,
   "metadata": {},
   "outputs": [
    {
     "name": "stdout",
     "output_type": "stream",
     "text": [
      "[ 1.99999970e+00+1.00000035j  2.99999977e+00-0.99999898j\n",
      "  3.00000026e+00-2.00000087j  9.99999324e-01+3.00000029j\n",
      " -2.00000021e+00-0.99999746j -9.99998128e-01-1.00000017j\n",
      " -2.96213050e-07+2.00000082j  1.99999862e+00-3.00000113j]\n",
      "[ 9.99999836e-01+9.99999987e-01j  3.00000100e+00-1.99999954e+00j\n",
      "  1.99999980e+00+2.99999989e+00j  2.00000155e+00-3.00000048e+00j\n",
      " -2.99999790e+00-2.99999952e+00j  2.00000191e+00+1.47353414e-06j\n",
      "  2.99999965e+00+3.00000093e+00j -1.16227049e-07-1.99999989e+00j]\n"
     ]
    }
   ],
   "source": [
    "# Checking correctness\n",
    "\n",
    "for i in range(2):\n",
    "    pt = ciphertexts[i].dec_to_poly(CKKS.sk)\n",
    "    print(CKKS.decode(pt))"
   ]
  },
  {
   "cell_type": "code",
   "execution_count": 41,
   "metadata": {},
   "outputs": [
    {
     "name": "stdout",
     "output_type": "stream",
     "text": [
      "A CKKS ciphertext with degree N = 2^15 and modulus q = (2^29) * (2^23)^24 (level 24 out of 24).\n",
      "A CKKS ciphertext with degree N = 2^15 and modulus q = (2^29) * (2^23)^23 (level 23 out of 24).\n"
     ]
    }
   ],
   "source": [
    "# Homomorphic operations\n",
    "\n",
    "ct_add = ciphertexts[0] + ciphertexts[1]\n",
    "ct_mul = (\n",
    "    ciphertexts[0] @ ciphertexts[1]\n",
    ")  # Polynomial multiplication followed by a rescaling operation\n",
    "print(ct_add)\n",
    "print(ct_mul)"
   ]
  },
  {
   "cell_type": "code",
   "execution_count": 42,
   "metadata": {},
   "outputs": [
    {
     "name": "stdout",
     "output_type": "stream",
     "text": [
      "[ 2.99999954+2.00000034e+00j  6.00000077-2.99999852e+00j\n",
      "  5.00000006+9.99999025e-01j  3.00000088-1.85107446e-07j\n",
      " -4.99999811-3.99999698e+00j  1.00000378-9.99998693e-01j\n",
      "  2.99999935+5.00000175e+00j  1.9999985 -5.00000102e+00j]\n",
      "[ 1.00000005+2.9999997j   7.00000433-8.99999561j 12.00000157+4.99999959j\n",
      " 11.00000194+3.00000784j  3.00000511+8.99999132j -1.99999696-2.00000329j\n",
      " -6.00000548+6.00000084j -6.00000198-3.99999658j]\n"
     ]
    }
   ],
   "source": [
    "# Checking correctness\n",
    "\n",
    "for ct in [ct_add, ct_mul]:\n",
    "    pt = ct.dec_to_poly(CKKS.sk)\n",
    "    print(CKKS.decode(pt))"
   ]
  },
  {
   "cell_type": "code",
   "execution_count": 43,
   "metadata": {},
   "outputs": [
    {
     "name": "stdout",
     "output_type": "stream",
     "text": [
      "A CKKS ciphertext with degree N = 2^15 and modulus q = (2^29) * (2^23)^0 (level 0 out of 24).\n",
      "1\n",
      "A CKKS ciphertext with degree N = 2^15 and modulus q = (2^29) * (2^23)^1 (level 1 out of 24).\n",
      "[ 1.99751132e+00+0.99804821j  2.99356646e+00-0.99808391j\n",
      "  2.99544531e+00-1.99540353j  1.00031083e+00+2.99507654j\n",
      " -2.00022703e+00-0.99849616j -9.96798977e-01-1.00109535j\n",
      "  1.02095093e-03+1.99498389j  1.99709856e+00-2.99558758j]\n",
      "9.36885307018454\n"
     ]
    }
   ],
   "source": [
    "# Bootstrapping\n",
    "\n",
    "ct = ciphertexts[0] % q0  # Project to the lowest level l = 0\n",
    "print(ct)\n",
    "\n",
    "ct_boot = ct.bootstrap(s)\n",
    "print(ct_boot)\n",
    "\n",
    "pt_boot = ct_boot.dec_to_poly(CKKS.sk)\n",
    "print(CKKS.decode(pt_boot))\n",
    "\n",
    "print(ct.get_poly_precision(ct_boot, CKKS.sk))"
   ]
  }
 ],
 "metadata": {
  "kernelspec": {
   "display_name": "SageMath 10.0",
   "language": "sage",
   "name": "SageMath-10.0"
  },
  "language_info": {
   "codemirror_mode": {
    "name": "ipython",
    "version": 3
   },
   "file_extension": ".py",
   "mimetype": "text/x-python",
   "name": "python",
   "nbconvert_exporter": "python",
   "pygments_lexer": "ipython3",
   "version": "3.11.1"
  }
 },
 "nbformat": 4,
 "nbformat_minor": 2
}
