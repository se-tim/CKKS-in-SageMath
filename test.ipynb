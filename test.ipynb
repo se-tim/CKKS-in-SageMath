{
 "cells": [
  {
   "cell_type": "code",
   "execution_count": 1,
   "metadata": {},
   "outputs": [],
   "source": [
    "load(\"ckks.py\")"
   ]
  },
  {
   "cell_type": "code",
   "execution_count": 2,
   "metadata": {},
   "outputs": [
    {
     "name": "stdout",
     "output_type": "stream",
     "text": [
      "The CKKS configuration is done!\n",
      "\n",
      "The key generation is done!\n",
      "Estimated security: 2^(80.0).\n",
      "\n",
      "Encoding relevant vectors as polynomials...\n",
      "Generating matrices required for CoeffToSlot and SlotToCoeff...\n",
      "Encoding these matrices as polynomials...\n",
      "Generating missing switching keys...\n",
      "The bootstrapping configuration is done!\n",
      "\n"
     ]
    }
   ],
   "source": [
    "N = 2**15  # Ring degree\n",
    "n = 2**2  # Number of slots\n",
    "L = 20  # Number of levels\n",
    "q0 = 2**40  # Smallest modulus\n",
    "delta = 2**33  # Scaling factor\n",
    "\n",
    "# The grouping parameter for bootstrapping is s. It lies between 1 and\n",
    "# log(n, 2). The smaller s, the faster the bootstrapping, but the more levels\n",
    "# are consumed.\n",
    "s = log(n, 2)\n",
    "\n",
    "CKKS.config(N, n, L, q0, delta)\n",
    "CKKS.key_gen()\n",
    "CKKS.config_bootstrap(CKKS.sk, s)"
   ]
  },
  {
   "cell_type": "code",
   "execution_count": 3,
   "metadata": {},
   "outputs": [
    {
     "data": {
      "text/plain": [
       "[array([ 3.+3.j,  3.+1.j, -3.-2.j,  3.+0.j]),\n",
       " array([-2.+2.j, -0.-2.j, -3.-3.j, -0.-2.j])]"
      ]
     },
     "execution_count": 3,
     "metadata": {},
     "output_type": "execute_result"
    }
   ],
   "source": [
    "# Creating two random complex vectors\n",
    "\n",
    "complex_vectors = [\n",
    "    np.array([randint(-3, 3) + 1j * randint(-3, 3) for _ in range(n)])\n",
    "    for _ in range(2)\n",
    "]\n",
    "complex_vectors"
   ]
  },
  {
   "cell_type": "code",
   "execution_count": 4,
   "metadata": {},
   "outputs": [
    {
     "data": {
      "text/plain": [
       "[12884901888 + 17997145388X^4096 - 9111001500X^8192 + 14029113011X^12288 + 4294967296X^16384 + 4167436050X^20480 + 9111001500X^24576 - 5811048877X^28672 mod(2^700),\n",
       " - 10737418240 + 6093048256X^4096 - 3037000500X^8192 + 10741887357X^12288 - 10737418240X^16384 + 9098274531X^20480 + 12148002000X^24576 + 2125015878X^28672 mod(2^700)]"
      ]
     },
     "execution_count": 4,
     "metadata": {},
     "output_type": "execute_result"
    }
   ],
   "source": [
    "# Encoding as polynomials\n",
    "\n",
    "plaintext_polys = [CKKS.encode(z) for z in complex_vectors]\n",
    "plaintext_polys"
   ]
  },
  {
   "cell_type": "code",
   "execution_count": 5,
   "metadata": {},
   "outputs": [
    {
     "data": {
      "text/plain": [
       "[A CKKS ciphertext with degree N = 2^15 and modulus q = (2^40) * (2^33)^20 (level 20 out of 20),\n",
       " A CKKS ciphertext with degree N = 2^15 and modulus q = (2^40) * (2^33)^20 (level 20 out of 20)]"
      ]
     },
     "execution_count": 5,
     "metadata": {},
     "output_type": "execute_result"
    }
   ],
   "source": [
    "# Encrypting\n",
    "\n",
    "ciphertexts = [CKKS.enc_poly_with_sk(pt, CKKS.sk) for pt in plaintext_polys]\n",
    "ciphertexts"
   ]
  },
  {
   "cell_type": "code",
   "execution_count": 6,
   "metadata": {},
   "outputs": [
    {
     "name": "stdout",
     "output_type": "stream",
     "text": [
      "[ 3.+3.00000000e+00j  3.+1.00000000e+00j -3.-2.00000000e+00j\n",
      "  3.-2.18062124e-10j]\n",
      "[-2.00000000e+00+2.j -4.26597609e-11-2.j -3.00000000e+00-3.j\n",
      " -2.78597482e-10-2.j]\n"
     ]
    }
   ],
   "source": [
    "# Checking correctness\n",
    "\n",
    "for i in range(2):\n",
    "    pt = ciphertexts[i].dec_to_poly(CKKS.sk)\n",
    "    print(CKKS.decode(pt))"
   ]
  },
  {
   "cell_type": "code",
   "execution_count": 7,
   "metadata": {},
   "outputs": [
    {
     "name": "stdout",
     "output_type": "stream",
     "text": [
      "A CKKS ciphertext with degree N = 2^15 and modulus q = (2^40) * (2^33)^20 (level 20 out of 20)\n",
      "A CKKS ciphertext with degree N = 2^15 and modulus q = (2^40) * (2^33)^19 (level 19 out of 20)\n"
     ]
    }
   ],
   "source": [
    "# Homomorphic operations\n",
    "\n",
    "ct_add = ciphertexts[0] + ciphertexts[1]\n",
    "ct_mul = (\n",
    "    ciphertexts[0] @ ciphertexts[1]\n",
    ")  # Polynomial multiplication followed by a rescaling operation\n",
    "print(ct_add)\n",
    "print(ct_mul)"
   ]
  },
  {
   "cell_type": "code",
   "execution_count": 8,
   "metadata": {},
   "outputs": [
    {
     "name": "stdout",
     "output_type": "stream",
     "text": [
      "[ 1.+5.j  3.-1.j -6.-5.j  3.-2.j]\n",
      "[-1.20000000e+01-4.79891682e-09j  2.00000000e+00-6.00000000e+00j\n",
      "  3.00000000e+00+1.50000000e+01j -1.53639124e-09-6.00000000e+00j]\n"
     ]
    }
   ],
   "source": [
    "# Checking correctness\n",
    "\n",
    "for ct in [ct_add, ct_mul]:\n",
    "    pt = ct.dec_to_poly(CKKS.sk)\n",
    "    print(CKKS.decode(pt))"
   ]
  },
  {
   "cell_type": "code",
   "execution_count": 9,
   "metadata": {},
   "outputs": [
    {
     "name": "stdout",
     "output_type": "stream",
     "text": [
      "A CKKS ciphertext with degree N = 2^15 and modulus q = (2^40) * (2^33)^0 (level 0 out of 20)\n",
      "A CKKS ciphertext with degree N = 2^15 and modulus q = (2^40) * (2^33)^2 (level 2 out of 20)\n",
      "[ 2.99523992+2.99697403e+00j  2.99781809+9.97432509e-01j\n",
      " -2.9965996 -1.99706696e+00j  2.9981091 +2.46998590e-03j]\n"
     ]
    }
   ],
   "source": [
    "# Bootstrapping\n",
    "\n",
    "ct = ciphertexts[0] % q0  # Project to the lowest level l = 0\n",
    "print(ct)\n",
    "\n",
    "ct_boot = ct.bootstrap(s)\n",
    "print(ct_boot)\n",
    "\n",
    "pt = ct_boot.dec_to_poly(CKKS.sk)\n",
    "print(CKKS.decode(pt))"
   ]
  }
 ],
 "metadata": {
  "kernelspec": {
   "display_name": "SageMath 10.0",
   "language": "sage",
   "name": "SageMath-10.0"
  },
  "language_info": {
   "codemirror_mode": {
    "name": "ipython",
    "version": 3
   },
   "file_extension": ".py",
   "mimetype": "text/x-python",
   "name": "python",
   "nbconvert_exporter": "python",
   "pygments_lexer": "ipython3",
   "version": "3.11.1"
  }
 },
 "nbformat": 4,
 "nbformat_minor": 2
}
